{
 "cells": [
  {
   "cell_type": "code",
   "execution_count": 4,
   "metadata": {},
   "outputs": [],
   "source": [
    "import pickle\n",
    "\n",
    "# Load the saved encoders\n",
    "with open('random_forest_model.pkl', 'rb') as f:\n",
    "    grid_search = pickle.load(f)"
   ]
  },
  {
   "cell_type": "code",
   "execution_count": 24,
   "metadata": {},
   "outputs": [
    {
     "data": {
      "text/plain": [
       "{'Marital_Status': LabelEncoder(),\n",
       " 'House_Ownership': LabelEncoder(),\n",
       " 'Vehicle_Ownership(car)': LabelEncoder(),\n",
       " 'Occupation': LabelEncoder(),\n",
       " 'Residence_State': LabelEncoder()}"
      ]
     },
     "execution_count": 24,
     "metadata": {},
     "output_type": "execute_result"
    }
   ],
   "source": [
    "encoders = pickle.load(open('label_encoder.pkl', 'rb'))\n",
    "encoders"
   ]
  },
  {
   "cell_type": "code",
   "execution_count": 28,
   "metadata": {},
   "outputs": [
    {
     "data": {
      "text/html": [
       "<div>\n",
       "<style scoped>\n",
       "    .dataframe tbody tr th:only-of-type {\n",
       "        vertical-align: middle;\n",
       "    }\n",
       "\n",
       "    .dataframe tbody tr th {\n",
       "        vertical-align: top;\n",
       "    }\n",
       "\n",
       "    .dataframe thead th {\n",
       "        text-align: right;\n",
       "    }\n",
       "</style>\n",
       "<table border=\"1\" class=\"dataframe\">\n",
       "  <thead>\n",
       "    <tr style=\"text-align: right;\">\n",
       "      <th></th>\n",
       "      <th>0</th>\n",
       "    </tr>\n",
       "  </thead>\n",
       "  <tbody>\n",
       "    <tr>\n",
       "      <th>0</th>\n",
       "      <td>Chartered Accountant</td>\n",
       "    </tr>\n",
       "  </tbody>\n",
       "</table>\n",
       "</div>"
      ],
      "text/plain": [
       "                      0\n",
       "0  Chartered Accountant"
      ]
     },
     "execution_count": 28,
     "metadata": {},
     "output_type": "execute_result"
    }
   ],
   "source": [
    "import pandas as pd\n",
    "df = pd.DataFrame([\"Chartered Accountant\"])\n",
    "df"
   ]
  },
  {
   "cell_type": "code",
   "execution_count": 29,
   "metadata": {},
   "outputs": [
    {
     "name": "stderr",
     "output_type": "stream",
     "text": [
      "p:\\Loan Predictor\\loan-predictor\\Lib\\site-packages\\sklearn\\preprocessing\\_label.py:132: DataConversionWarning: A column-vector y was passed when a 1d array was expected. Please change the shape of y to (n_samples, ), for example using ravel().\n",
      "  y = column_or_1d(y, dtype=self.classes_.dtype, warn=True)\n"
     ]
    },
    {
     "data": {
      "text/plain": [
       "array([7])"
      ]
     },
     "execution_count": 29,
     "metadata": {},
     "output_type": "execute_result"
    }
   ],
   "source": [
    "encoders[\"Occupation\"].transform(df)"
   ]
  },
  {
   "cell_type": "code",
   "execution_count": 22,
   "metadata": {},
   "outputs": [
    {
     "data": {
      "text/plain": [
       "array(['Air_traffic_controller', 'Analyst', 'Architect', 'Army_officer',\n",
       "       'Artist', 'Aviator', 'Biomedical_Engineer', 'Chartered_Accountant',\n",
       "       'Chef', 'Chemical_engineer', 'Civil_engineer', 'Civil_servant',\n",
       "       'Comedian', 'Computer_hardware_engineer', 'Computer_operator',\n",
       "       'Consultant', 'Dentist', 'Design_Engineer', 'Designer', 'Drafter',\n",
       "       'Economist', 'Engineer', 'Fashion_Designer', 'Financial_Analyst',\n",
       "       'Firefighter', 'Flight_attendant', 'Geologist', 'Graphic_Designer',\n",
       "       'Hotel_Manager', 'Industrial_Engineer', 'Lawyer', 'Librarian',\n",
       "       'Magistrate', 'Mechanical_engineer', 'Microbiologist', 'Official',\n",
       "       'Petroleum_Engineer', 'Physician', 'Police_officer', 'Politician',\n",
       "       'Psychologist', 'Scientist', 'Secretary', 'Software_Developer',\n",
       "       'Statistician', 'Surgeon', 'Surveyor', 'Technical_writer',\n",
       "       'Technician', 'Technology_specialist', 'Web_designer'],\n",
       "      dtype=object)"
      ]
     },
     "execution_count": 22,
     "metadata": {},
     "output_type": "execute_result"
    }
   ],
   "source": [
    "o.classes_"
   ]
  },
  {
   "cell_type": "code",
   "execution_count": null,
   "metadata": {},
   "outputs": [],
   "source": []
  }
 ],
 "metadata": {
  "kernelspec": {
   "display_name": "loan-predictor",
   "language": "python",
   "name": "python3"
  },
  "language_info": {
   "codemirror_mode": {
    "name": "ipython",
    "version": 3
   },
   "file_extension": ".py",
   "mimetype": "text/x-python",
   "name": "python",
   "nbconvert_exporter": "python",
   "pygments_lexer": "ipython3",
   "version": "3.12.6"
  }
 },
 "nbformat": 4,
 "nbformat_minor": 2
}
